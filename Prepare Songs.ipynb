{
 "cells": [
  {
   "cell_type": "code",
   "execution_count": 0,
   "metadata": {
    "application/vnd.databricks.v1+cell": {
     "cellMetadata": {
      "implicitDf": true
     },
     "inputWidgets": {},
     "nuid": "cea34366-529b-415e-bee6-09fe7e8a52d8",
     "showTitle": false,
     "title": ""
    }
   },
   "outputs": [
    {
     "output_type": "display_data",
     "data": {
      "text/html": [
       "<style scoped>\n",
       "  .table-result-container {\n",
       "    max-height: 300px;\n",
       "    overflow: auto;\n",
       "  }\n",
       "  table, th, td {\n",
       "    border: 1px solid black;\n",
       "    border-collapse: collapse;\n",
       "  }\n",
       "  th, td {\n",
       "    padding: 5px;\n",
       "  }\n",
       "  th {\n",
       "    text-align: left;\n",
       "  }\n",
       "</style><div class='table-result-container'><table class='table-result'><thead style='background-color: white'><tr><th>num_affected_rows</th><th>num_inserted_rows</th></tr></thead><tbody><tr><td>31389</td><td>31389</td></tr></tbody></table></div>"
      ]
     },
     "metadata": {
      "application/vnd.databricks.v1+output": {
       "addedWidgets": {},
       "aggData": [],
       "aggError": "",
       "aggOverflow": false,
       "aggSchema": [],
       "aggSeriesLimitReached": false,
       "aggType": "",
       "arguments": {},
       "columnCustomDisplayInfos": {},
       "data": [
        [
         31389,
         31389
        ]
       ],
       "datasetInfos": [],
       "dbfsResultPath": null,
       "isJsonSchema": true,
       "metadata": {},
       "overflow": false,
       "plotOptions": {
        "customPlotOptions": {},
        "displayType": "table",
        "pivotAggregation": null,
        "pivotColumns": null,
        "xColumns": null,
        "yColumns": null
       },
       "removedWidgets": [],
       "schema": [
        {
         "metadata": "{}",
         "name": "num_affected_rows",
         "type": "\"long\""
        },
        {
         "metadata": "{}",
         "name": "num_inserted_rows",
         "type": "\"long\""
        }
       ],
       "type": "table"
      }
     },
     "output_type": "display_data"
    }
   ],
   "source": [
    "%sql\n",
    "-- TRANSFORM AND LOAD\n",
    "\n",
    "\n",
    "%sql -- creating table for transformed data ie lesser number of columns than the initially loaded column\n",
    "CREATE OR REPLACE TABLE\n",
    "  new1 (\n",
    "    artist_id STRING,\n",
    "    artist_name STRING,\n",
    "    duration DOUBLE,\n",
    "    release STRING,\n",
    "    tempo DOUBLE,\n",
    "    time_signature DOUBLE,\n",
    "    title STRING,\n",
    "    year DOUBLE,\n",
    "    processed_time TIMESTAMP\n",
    "  );\n",
    "-- Inserting data into the newly created column\n",
    "INSERT INTO\n",
    "  new1\n",
    "SELECT\n",
    "  artist_id,\n",
    "  artist_name,\n",
    "  duration,\n",
    "  release,\n",
    "  tempo,\n",
    "  time_signature,\n",
    "  title,\n",
    "  year,\n",
    "  current_timestamp()\n",
    "FROM\n",
    "  new"
   ]
  },
  {
   "cell_type": "code",
   "execution_count": 0,
   "metadata": {
    "application/vnd.databricks.v1+cell": {
     "cellMetadata": {
      "implicitDf": true
     },
     "inputWidgets": {},
     "nuid": "40b39d3a-52ba-4dfc-a332-21d5c737226d",
     "showTitle": false,
     "title": ""
    }
   },
   "outputs": [
    {
     "output_type": "display_data",
     "data": {
      "text/html": [
       "<style scoped>\n",
       "  .table-result-container {\n",
       "    max-height: 300px;\n",
       "    overflow: auto;\n",
       "  }\n",
       "  table, th, td {\n",
       "    border: 1px solid black;\n",
       "    border-collapse: collapse;\n",
       "  }\n",
       "  th, td {\n",
       "    padding: 5px;\n",
       "  }\n",
       "  th {\n",
       "    text-align: left;\n",
       "  }\n",
       "</style><div class='table-result-container'><table class='table-result'><thead style='background-color: white'><tr><th>col_name</th><th>data_type</th><th>comment</th></tr></thead><tbody><tr><td>artist_id</td><td>string</td><td>null</td></tr><tr><td>artist_lat</td><td>double</td><td>null</td></tr><tr><td>artist_long</td><td>double</td><td>null</td></tr><tr><td>artist_location</td><td>string</td><td>null</td></tr><tr><td>artist_name</td><td>string</td><td>null</td></tr><tr><td>duration</td><td>double</td><td>null</td></tr><tr><td>end_of_fade_in</td><td>double</td><td>null</td></tr><tr><td>key</td><td>int</td><td>null</td></tr><tr><td>key_confidence</td><td>double</td><td>null</td></tr><tr><td>loudness</td><td>double</td><td>null</td></tr><tr><td>release</td><td>string</td><td>null</td></tr><tr><td>song_hotnes</td><td>double</td><td>null</td></tr><tr><td>song_id</td><td>string</td><td>null</td></tr><tr><td>start_of_fade_out</td><td>double</td><td>null</td></tr><tr><td>tempo</td><td>double</td><td>null</td></tr><tr><td>time_signature</td><td>double</td><td>null</td></tr><tr><td>time_signature_confidence</td><td>double</td><td>null</td></tr><tr><td>title</td><td>string</td><td>null</td></tr><tr><td>year</td><td>int</td><td>null</td></tr><tr><td>partial_sequence</td><td>int</td><td>null</td></tr></tbody></table></div>"
      ]
     },
     "metadata": {
      "application/vnd.databricks.v1+output": {
       "addedWidgets": {},
       "aggData": [],
       "aggError": "",
       "aggOverflow": false,
       "aggSchema": [],
       "aggSeriesLimitReached": false,
       "aggType": "",
       "arguments": {},
       "columnCustomDisplayInfos": {},
       "data": [
        [
         "artist_id",
         "string",
         null
        ],
        [
         "artist_lat",
         "double",
         null
        ],
        [
         "artist_long",
         "double",
         null
        ],
        [
         "artist_location",
         "string",
         null
        ],
        [
         "artist_name",
         "string",
         null
        ],
        [
         "duration",
         "double",
         null
        ],
        [
         "end_of_fade_in",
         "double",
         null
        ],
        [
         "key",
         "int",
         null
        ],
        [
         "key_confidence",
         "double",
         null
        ],
        [
         "loudness",
         "double",
         null
        ],
        [
         "release",
         "string",
         null
        ],
        [
         "song_hotnes",
         "double",
         null
        ],
        [
         "song_id",
         "string",
         null
        ],
        [
         "start_of_fade_out",
         "double",
         null
        ],
        [
         "tempo",
         "double",
         null
        ],
        [
         "time_signature",
         "double",
         null
        ],
        [
         "time_signature_confidence",
         "double",
         null
        ],
        [
         "title",
         "string",
         null
        ],
        [
         "year",
         "int",
         null
        ],
        [
         "partial_sequence",
         "int",
         null
        ]
       ],
       "datasetInfos": [],
       "dbfsResultPath": null,
       "isJsonSchema": true,
       "metadata": {},
       "overflow": false,
       "plotOptions": {
        "customPlotOptions": {},
        "displayType": "table",
        "pivotAggregation": null,
        "pivotColumns": null,
        "xColumns": null,
        "yColumns": null
       },
       "removedWidgets": [],
       "schema": [
        {
         "metadata": "{\"comment\":\"name of the column\"}",
         "name": "col_name",
         "type": "\"string\""
        },
        {
         "metadata": "{\"comment\":\"data type of the column\"}",
         "name": "data_type",
         "type": "\"string\""
        },
        {
         "metadata": "{\"comment\":\"comment of the column\"}",
         "name": "comment",
         "type": "\"string\""
        }
       ],
       "type": "table"
      }
     },
     "output_type": "display_data"
    }
   ],
   "source": [
    "%sql\n",
    "-- table where data was inintially loaded. It had 20 columns.\n",
    "desc new"
   ]
  },
  {
   "cell_type": "code",
   "execution_count": 0,
   "metadata": {
    "application/vnd.databricks.v1+cell": {
     "cellMetadata": {
      "implicitDf": true
     },
     "inputWidgets": {},
     "nuid": "1192455c-5b12-48dd-80b1-f9f09116ff25",
     "showTitle": false,
     "title": ""
    }
   },
   "outputs": [
    {
     "output_type": "display_data",
     "data": {
      "text/html": [
       "<style scoped>\n",
       "  .table-result-container {\n",
       "    max-height: 300px;\n",
       "    overflow: auto;\n",
       "  }\n",
       "  table, th, td {\n",
       "    border: 1px solid black;\n",
       "    border-collapse: collapse;\n",
       "  }\n",
       "  th, td {\n",
       "    padding: 5px;\n",
       "  }\n",
       "  th {\n",
       "    text-align: left;\n",
       "  }\n",
       "</style><div class='table-result-container'><table class='table-result'><thead style='background-color: white'><tr><th>col_name</th><th>data_type</th><th>comment</th></tr></thead><tbody><tr><td>artist_id</td><td>string</td><td>null</td></tr><tr><td>artist_name</td><td>string</td><td>null</td></tr><tr><td>duration</td><td>double</td><td>null</td></tr><tr><td>release</td><td>string</td><td>null</td></tr><tr><td>tempo</td><td>double</td><td>null</td></tr><tr><td>time_signature</td><td>double</td><td>null</td></tr><tr><td>title</td><td>string</td><td>null</td></tr><tr><td>year</td><td>double</td><td>null</td></tr><tr><td>processed_time</td><td>timestamp</td><td>null</td></tr></tbody></table></div>"
      ]
     },
     "metadata": {
      "application/vnd.databricks.v1+output": {
       "addedWidgets": {},
       "aggData": [],
       "aggError": "",
       "aggOverflow": false,
       "aggSchema": [],
       "aggSeriesLimitReached": false,
       "aggType": "",
       "arguments": {},
       "columnCustomDisplayInfos": {},
       "data": [
        [
         "artist_id",
         "string",
         null
        ],
        [
         "artist_name",
         "string",
         null
        ],
        [
         "duration",
         "double",
         null
        ],
        [
         "release",
         "string",
         null
        ],
        [
         "tempo",
         "double",
         null
        ],
        [
         "time_signature",
         "double",
         null
        ],
        [
         "title",
         "string",
         null
        ],
        [
         "year",
         "double",
         null
        ],
        [
         "processed_time",
         "timestamp",
         null
        ]
       ],
       "datasetInfos": [],
       "dbfsResultPath": null,
       "isJsonSchema": true,
       "metadata": {},
       "overflow": false,
       "plotOptions": {
        "customPlotOptions": {},
        "displayType": "table",
        "pivotAggregation": null,
        "pivotColumns": null,
        "xColumns": null,
        "yColumns": null
       },
       "removedWidgets": [],
       "schema": [
        {
         "metadata": "{\"comment\":\"name of the column\"}",
         "name": "col_name",
         "type": "\"string\""
        },
        {
         "metadata": "{\"comment\":\"data type of the column\"}",
         "name": "data_type",
         "type": "\"string\""
        },
        {
         "metadata": "{\"comment\":\"comment of the column\"}",
         "name": "comment",
         "type": "\"string\""
        }
       ],
       "type": "table"
      }
     },
     "output_type": "display_data"
    }
   ],
   "source": [
    "%sql\n",
    "-- Newly loaded table with 9 columns\n",
    "desc new1"
   ]
  }
 ],
 "metadata": {
  "application/vnd.databricks.v1+notebook": {
   "dashboards": [],
   "language": "python",
   "notebookMetadata": {
    "mostRecentlyExecutedCommandWithImplicitDF": {
     "commandId": 22917906102144,
     "dataframes": [
      "_sqldf"
     ]
    },
    "pythonIndentUnit": 4
   },
   "notebookName": "Prepare Songs",
   "widgets": {}
  }
 },
 "nbformat": 4,
 "nbformat_minor": 0
}
