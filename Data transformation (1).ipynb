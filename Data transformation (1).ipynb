{
 "cells": [
  {
   "cell_type": "code",
   "execution_count": 0,
   "metadata": {
    "application/vnd.databricks.v1+cell": {
     "cellMetadata": {
      "byteLimit": 2048000,
      "rowLimit": 10000
     },
     "inputWidgets": {},
     "nuid": "9e54d336-656b-4e7b-b9da-337c9ffd3b98",
     "showTitle": false,
     "title": ""
    }
   },
   "outputs": [
    {
     "output_type": "display_data",
     "data": {
      "application/vnd.databricks.v1+bamboolib_hint": "{\"pd.DataFrames\": [], \"version\": \"0.0.1\"}",
      "text/plain": []
     },
     "metadata": {},
     "output_type": "display_data"
    },
    {
     "output_type": "stream",
     "name": "stdout",
     "output_type": "stream",
     "text": [
      "Filtered Data:\n               name  age date_of_birth  gender  ID_number  salary  deptid  \\\n3  Charlotte Harris   41    1982-08-27  Female       7890   67000       2   \n6   Sophia Anderson   42    1980-05-23  Female       5678   65000       1   \n\n  Department  \n3         IT  \n6         HR  \n\nAverage Salary for Filtered Data:\n66000.0\n"
     ]
    }
   ],
   "source": [
    "import pandas as pd\n",
    "\n",
    "# Employee Data\n",
    "employee_data = data = [(\"Benjamin Johnson\", 28, \"1987-09-12\", \"Male\", 1234, 50000, 2),\n",
    "(\"Sophia Anderson\", 42, \"1980-05-23\", \"Female\", 5678, 65000, 1),\n",
    "(\"Ethan Martinez\", 19, \"2004-12-01\", \"Male\", 9012, 30000, 3),\n",
    "(\"Olivia Thompson\", 35, \"1988-03-17\", \"Female\", 3456, 55000, 4),\n",
    "(\"Liam Davis\", 31, \"1992-07-08\", \"Male\", 7890, 48000, 2),\n",
    "(\"Ava Wilson\", 24, \"1999-11-19\", \"Female\", 2345, 52000, 1),\n",
    "(\"Noah Taylor\", 29, \"1994-02-28\", \"Male\", 6789, 59000, 3),\n",
    "(\"Isabella Garcia\", 38, \"1985-10-04\", \"Female\", 1234, 72000, 2),\n",
    "(\"James Robinson\", 47, \"1976-06-15\", \"Male\", 5678, 89000, 1),\n",
    "(\"Mia Lopez\", 26, \"1997-12-25\", \"Female\", 9012, 42000, 4),\n",
    "(\"Jacob Lewis\", 33, \"1990-04-03\", \"Male\", 3456, 56000, 3),\n",
    "(\"Charlotte Harris\", 41, \"1982-08-27\", \"Female\", 7890, 67000, 2),\n",
    "(\"William Clark\", 52, \"1971-02-09\", \"Male\", 2345, 93000, 1),\n",
    "(\"Abigail Young\", 27, \"1996-06-30\", \"Female\", 6789, 48000, 4),\n",
    "(\"Alexander Hall\", 39, \"1984-11-14\", \"Male\", 1234, 62000, 3),\n",
    "(\"Emily Lee\", 22, \"2001-03-22\", \"Female\", 5678, 38000, 2),\n",
    "(\"Michael Turner\", 45, \"1978-09-07\", \"Male\", 9012, 71000, 1),\n",
    "(\"Harper Adams\", 32, \"1989-05-15\", \"Female\", 3456, 53000, 4),\n",
    "(\"Matthew Baker\", 36, \"1985-07-02\", \"Male\", 7890, 68000, 3),\n",
    "(\"Elizabeth King\", 30, \"1991-12-10\", \"Female\", 2345, 57000, 2)]\n",
    "\n",
    "employee_schema = [\"name\", \"age\", \"date_of_birth\", \"gender\", \"ID_number\", \"salary\", \"deptid\"]\n",
    "\n",
    "# Department Data\n",
    "dept_data = [(\"HR\", 1), (\"IT\", 2), (\"FINANCE\", 3), (\"Operations\", 5)]\n",
    "dept_schema = [\"Department\", \"deptid\"]\n",
    "\n",
    "# Create DataFrames for both employee and department data\n",
    "employee_df = pd.DataFrame(employee_data, columns=employee_schema)\n",
    "dept_df = pd.DataFrame(dept_data, columns=dept_schema)\n",
    "\n",
    "# Merge the employee and department DataFrames based on the 'deptid' column\n",
    "merged_df = pd.merge(employee_df, dept_df, on='deptid')\n",
    "\n",
    "# Filter data (for example, filter by gender and age)\n",
    "filtered_data = merged_df[(merged_df['gender'] == 'Female') & (merged_df['age'] >= 40)]\n",
    "\n",
    "# Calculate the average salary for the filtered data\n",
    "average_salary = filtered_data['salary'].mean()\n",
    "\n",
    "print(\"Filtered Data:\")\n",
    "print(filtered_data)\n",
    "\n",
    "print(\"\\nAverage Salary for Filtered Data:\")\n",
    "print(average_salary)\n"
   ]
  },
  {
   "cell_type": "code",
   "execution_count": 0,
   "metadata": {
    "application/vnd.databricks.v1+cell": {
     "cellMetadata": {
      "byteLimit": 2048000,
      "rowLimit": 10000
     },
     "inputWidgets": {},
     "nuid": "1a7ed37a-a24b-4ddf-bd8e-d7466f9ca032",
     "showTitle": false,
     "title": ""
    }
   },
   "outputs": [
    {
     "output_type": "display_data",
     "data": {
      "text/html": [
       "<style scoped>\n",
       "  .table-result-container {\n",
       "    max-height: 300px;\n",
       "    overflow: auto;\n",
       "  }\n",
       "  table, th, td {\n",
       "    border: 1px solid black;\n",
       "    border-collapse: collapse;\n",
       "  }\n",
       "  th, td {\n",
       "    padding: 5px;\n",
       "  }\n",
       "  th {\n",
       "    text-align: left;\n",
       "  }\n",
       "</style><div class='table-result-container'><table class='table-result'><thead style='background-color: white'><tr><th>name</th><th>age</th><th>date_of_birth</th><th>gender</th><th>ID_number</th><th>salary</th><th>deptid</th><th>Department</th></tr></thead><tbody><tr><td>Benjamin Johnson</td><td>28</td><td>1987-09-12</td><td>Male</td><td>1234</td><td>50000</td><td>2</td><td>IT</td></tr><tr><td>Liam Davis</td><td>31</td><td>1992-07-08</td><td>Male</td><td>7890</td><td>48000</td><td>2</td><td>IT</td></tr><tr><td>Isabella Garcia</td><td>38</td><td>1985-10-04</td><td>Female</td><td>1234</td><td>72000</td><td>2</td><td>IT</td></tr><tr><td>Charlotte Harris</td><td>41</td><td>1982-08-27</td><td>Female</td><td>7890</td><td>67000</td><td>2</td><td>IT</td></tr><tr><td>Emily Lee</td><td>22</td><td>2001-03-22</td><td>Female</td><td>5678</td><td>38000</td><td>2</td><td>IT</td></tr><tr><td>Elizabeth King</td><td>30</td><td>1991-12-10</td><td>Female</td><td>2345</td><td>57000</td><td>2</td><td>IT</td></tr><tr><td>Sophia Anderson</td><td>42</td><td>1980-05-23</td><td>Female</td><td>5678</td><td>65000</td><td>1</td><td>HR</td></tr><tr><td>Ava Wilson</td><td>24</td><td>1999-11-19</td><td>Female</td><td>2345</td><td>52000</td><td>1</td><td>HR</td></tr><tr><td>James Robinson</td><td>47</td><td>1976-06-15</td><td>Male</td><td>5678</td><td>89000</td><td>1</td><td>HR</td></tr><tr><td>William Clark</td><td>52</td><td>1971-02-09</td><td>Male</td><td>2345</td><td>93000</td><td>1</td><td>HR</td></tr><tr><td>Michael Turner</td><td>45</td><td>1978-09-07</td><td>Male</td><td>9012</td><td>71000</td><td>1</td><td>HR</td></tr><tr><td>Ethan Martinez</td><td>19</td><td>2004-12-01</td><td>Male</td><td>9012</td><td>30000</td><td>3</td><td>FINANCE</td></tr><tr><td>Noah Taylor</td><td>29</td><td>1994-02-28</td><td>Male</td><td>6789</td><td>59000</td><td>3</td><td>FINANCE</td></tr><tr><td>Jacob Lewis</td><td>33</td><td>1990-04-03</td><td>Male</td><td>3456</td><td>56000</td><td>3</td><td>FINANCE</td></tr><tr><td>Alexander Hall</td><td>39</td><td>1984-11-14</td><td>Male</td><td>1234</td><td>62000</td><td>3</td><td>FINANCE</td></tr><tr><td>Matthew Baker</td><td>36</td><td>1985-07-02</td><td>Male</td><td>7890</td><td>68000</td><td>3</td><td>FINANCE</td></tr></tbody></table></div>"
      ]
     },
     "metadata": {
      "application/vnd.databricks.v1+output": {
       "addedWidgets": {},
       "aggData": [],
       "aggError": "",
       "aggOverflow": false,
       "aggSchema": [],
       "aggSeriesLimitReached": false,
       "aggType": "",
       "arguments": {},
       "columnCustomDisplayInfos": {},
       "data": [
        [
         "Benjamin Johnson",
         28,
         "1987-09-12",
         "Male",
         1234,
         50000,
         2,
         "IT"
        ],
        [
         "Liam Davis",
         31,
         "1992-07-08",
         "Male",
         7890,
         48000,
         2,
         "IT"
        ],
        [
         "Isabella Garcia",
         38,
         "1985-10-04",
         "Female",
         1234,
         72000,
         2,
         "IT"
        ],
        [
         "Charlotte Harris",
         41,
         "1982-08-27",
         "Female",
         7890,
         67000,
         2,
         "IT"
        ],
        [
         "Emily Lee",
         22,
         "2001-03-22",
         "Female",
         5678,
         38000,
         2,
         "IT"
        ],
        [
         "Elizabeth King",
         30,
         "1991-12-10",
         "Female",
         2345,
         57000,
         2,
         "IT"
        ],
        [
         "Sophia Anderson",
         42,
         "1980-05-23",
         "Female",
         5678,
         65000,
         1,
         "HR"
        ],
        [
         "Ava Wilson",
         24,
         "1999-11-19",
         "Female",
         2345,
         52000,
         1,
         "HR"
        ],
        [
         "James Robinson",
         47,
         "1976-06-15",
         "Male",
         5678,
         89000,
         1,
         "HR"
        ],
        [
         "William Clark",
         52,
         "1971-02-09",
         "Male",
         2345,
         93000,
         1,
         "HR"
        ],
        [
         "Michael Turner",
         45,
         "1978-09-07",
         "Male",
         9012,
         71000,
         1,
         "HR"
        ],
        [
         "Ethan Martinez",
         19,
         "2004-12-01",
         "Male",
         9012,
         30000,
         3,
         "FINANCE"
        ],
        [
         "Noah Taylor",
         29,
         "1994-02-28",
         "Male",
         6789,
         59000,
         3,
         "FINANCE"
        ],
        [
         "Jacob Lewis",
         33,
         "1990-04-03",
         "Male",
         3456,
         56000,
         3,
         "FINANCE"
        ],
        [
         "Alexander Hall",
         39,
         "1984-11-14",
         "Male",
         1234,
         62000,
         3,
         "FINANCE"
        ],
        [
         "Matthew Baker",
         36,
         "1985-07-02",
         "Male",
         7890,
         68000,
         3,
         "FINANCE"
        ]
       ],
       "datasetInfos": [],
       "dbfsResultPath": null,
       "isJsonSchema": true,
       "metadata": {},
       "overflow": false,
       "plotOptions": {
        "customPlotOptions": {},
        "displayType": "table",
        "pivotAggregation": null,
        "pivotColumns": null,
        "xColumns": null,
        "yColumns": null
       },
       "removedWidgets": [],
       "schema": [
        {
         "metadata": "{}",
         "name": "name",
         "type": "\"string\""
        },
        {
         "metadata": "{}",
         "name": "age",
         "type": "\"long\""
        },
        {
         "metadata": "{}",
         "name": "date_of_birth",
         "type": "\"string\""
        },
        {
         "metadata": "{}",
         "name": "gender",
         "type": "\"string\""
        },
        {
         "metadata": "{}",
         "name": "ID_number",
         "type": "\"long\""
        },
        {
         "metadata": "{}",
         "name": "salary",
         "type": "\"long\""
        },
        {
         "metadata": "{}",
         "name": "deptid",
         "type": "\"long\""
        },
        {
         "metadata": "{}",
         "name": "Department",
         "type": "\"string\""
        }
       ],
       "type": "table"
      }
     },
     "output_type": "display_data"
    }
   ],
   "source": [
    "display(merged_df)"
   ]
  },
  {
   "cell_type": "code",
   "execution_count": 0,
   "metadata": {
    "application/vnd.databricks.v1+cell": {
     "cellMetadata": {
      "byteLimit": 2048000,
      "rowLimit": 10000
     },
     "inputWidgets": {},
     "nuid": "5bdde909-185d-4c9a-9a28-743bac3dd321",
     "showTitle": false,
     "title": ""
    }
   },
   "outputs": [
    {
     "output_type": "display_data",
     "data": {
      "text/html": [
       "<style scoped>\n",
       "  .table-result-container {\n",
       "    max-height: 300px;\n",
       "    overflow: auto;\n",
       "  }\n",
       "  table, th, td {\n",
       "    border: 1px solid black;\n",
       "    border-collapse: collapse;\n",
       "  }\n",
       "  th, td {\n",
       "    padding: 5px;\n",
       "  }\n",
       "  th {\n",
       "    text-align: left;\n",
       "  }\n",
       "</style><div class='table-result-container'><table class='table-result'><thead style='background-color: white'><tr><th>_1</th><th>_2</th><th>_3</th><th>_4</th><th>_5</th><th>_6</th><th>_7</th></tr></thead><tbody><tr><td>Benjamin Johnson</td><td>28</td><td>1987-09-12</td><td>Male</td><td>1234</td><td>50000</td><td>2</td></tr><tr><td>Sophia Anderson</td><td>42</td><td>1980-05-23</td><td>Female</td><td>5678</td><td>65000</td><td>1</td></tr><tr><td>Ethan Martinez</td><td>19</td><td>2004-12-01</td><td>Male</td><td>9012</td><td>30000</td><td>3</td></tr><tr><td>Olivia Thompson</td><td>35</td><td>1988-03-17</td><td>Female</td><td>3456</td><td>55000</td><td>4</td></tr><tr><td>Liam Davis</td><td>31</td><td>1992-07-08</td><td>Male</td><td>7890</td><td>48000</td><td>2</td></tr><tr><td>Ava Wilson</td><td>24</td><td>1999-11-19</td><td>Female</td><td>2345</td><td>52000</td><td>1</td></tr><tr><td>Noah Taylor</td><td>29</td><td>1994-02-28</td><td>Male</td><td>6789</td><td>59000</td><td>3</td></tr><tr><td>Isabella Garcia</td><td>38</td><td>1985-10-04</td><td>Female</td><td>1234</td><td>72000</td><td>2</td></tr><tr><td>James Robinson</td><td>47</td><td>1976-06-15</td><td>Male</td><td>5678</td><td>89000</td><td>1</td></tr><tr><td>Mia Lopez</td><td>26</td><td>1997-12-25</td><td>Female</td><td>9012</td><td>42000</td><td>4</td></tr><tr><td>Jacob Lewis</td><td>33</td><td>1990-04-03</td><td>Male</td><td>3456</td><td>56000</td><td>3</td></tr><tr><td>Charlotte Harris</td><td>41</td><td>1982-08-27</td><td>Female</td><td>7890</td><td>67000</td><td>2</td></tr><tr><td>William Clark</td><td>52</td><td>1971-02-09</td><td>Male</td><td>2345</td><td>93000</td><td>1</td></tr><tr><td>Abigail Young</td><td>27</td><td>1996-06-30</td><td>Female</td><td>6789</td><td>48000</td><td>4</td></tr><tr><td>Alexander Hall</td><td>39</td><td>1984-11-14</td><td>Male</td><td>1234</td><td>62000</td><td>3</td></tr><tr><td>Emily Lee</td><td>22</td><td>2001-03-22</td><td>Female</td><td>5678</td><td>38000</td><td>2</td></tr><tr><td>Michael Turner</td><td>45</td><td>1978-09-07</td><td>Male</td><td>9012</td><td>71000</td><td>1</td></tr><tr><td>Harper Adams</td><td>32</td><td>1989-05-15</td><td>Female</td><td>3456</td><td>53000</td><td>4</td></tr><tr><td>Matthew Baker</td><td>36</td><td>1985-07-02</td><td>Male</td><td>7890</td><td>68000</td><td>3</td></tr><tr><td>Elizabeth King</td><td>30</td><td>1991-12-10</td><td>Female</td><td>2345</td><td>57000</td><td>2</td></tr></tbody></table></div>"
      ]
     },
     "metadata": {
      "application/vnd.databricks.v1+output": {
       "addedWidgets": {},
       "aggData": [],
       "aggError": "",
       "aggOverflow": false,
       "aggSchema": [],
       "aggSeriesLimitReached": false,
       "aggType": "",
       "arguments": {},
       "columnCustomDisplayInfos": {},
       "data": [
        [
         "Benjamin Johnson",
         28,
         "1987-09-12",
         "Male",
         1234,
         50000,
         2
        ],
        [
         "Sophia Anderson",
         42,
         "1980-05-23",
         "Female",
         5678,
         65000,
         1
        ],
        [
         "Ethan Martinez",
         19,
         "2004-12-01",
         "Male",
         9012,
         30000,
         3
        ],
        [
         "Olivia Thompson",
         35,
         "1988-03-17",
         "Female",
         3456,
         55000,
         4
        ],
        [
         "Liam Davis",
         31,
         "1992-07-08",
         "Male",
         7890,
         48000,
         2
        ],
        [
         "Ava Wilson",
         24,
         "1999-11-19",
         "Female",
         2345,
         52000,
         1
        ],
        [
         "Noah Taylor",
         29,
         "1994-02-28",
         "Male",
         6789,
         59000,
         3
        ],
        [
         "Isabella Garcia",
         38,
         "1985-10-04",
         "Female",
         1234,
         72000,
         2
        ],
        [
         "James Robinson",
         47,
         "1976-06-15",
         "Male",
         5678,
         89000,
         1
        ],
        [
         "Mia Lopez",
         26,
         "1997-12-25",
         "Female",
         9012,
         42000,
         4
        ],
        [
         "Jacob Lewis",
         33,
         "1990-04-03",
         "Male",
         3456,
         56000,
         3
        ],
        [
         "Charlotte Harris",
         41,
         "1982-08-27",
         "Female",
         7890,
         67000,
         2
        ],
        [
         "William Clark",
         52,
         "1971-02-09",
         "Male",
         2345,
         93000,
         1
        ],
        [
         "Abigail Young",
         27,
         "1996-06-30",
         "Female",
         6789,
         48000,
         4
        ],
        [
         "Alexander Hall",
         39,
         "1984-11-14",
         "Male",
         1234,
         62000,
         3
        ],
        [
         "Emily Lee",
         22,
         "2001-03-22",
         "Female",
         5678,
         38000,
         2
        ],
        [
         "Michael Turner",
         45,
         "1978-09-07",
         "Male",
         9012,
         71000,
         1
        ],
        [
         "Harper Adams",
         32,
         "1989-05-15",
         "Female",
         3456,
         53000,
         4
        ],
        [
         "Matthew Baker",
         36,
         "1985-07-02",
         "Male",
         7890,
         68000,
         3
        ],
        [
         "Elizabeth King",
         30,
         "1991-12-10",
         "Female",
         2345,
         57000,
         2
        ]
       ],
       "datasetInfos": [],
       "dbfsResultPath": null,
       "isJsonSchema": true,
       "metadata": {},
       "overflow": false,
       "plotOptions": {
        "customPlotOptions": {},
        "displayType": "table",
        "pivotAggregation": null,
        "pivotColumns": null,
        "xColumns": null,
        "yColumns": null
       },
       "removedWidgets": [],
       "schema": [
        {
         "metadata": "{}",
         "name": "_1",
         "type": "\"string\""
        },
        {
         "metadata": "{}",
         "name": "_2",
         "type": "\"long\""
        },
        {
         "metadata": "{}",
         "name": "_3",
         "type": "\"string\""
        },
        {
         "metadata": "{}",
         "name": "_4",
         "type": "\"string\""
        },
        {
         "metadata": "{}",
         "name": "_5",
         "type": "\"long\""
        },
        {
         "metadata": "{}",
         "name": "_6",
         "type": "\"long\""
        },
        {
         "metadata": "{}",
         "name": "_7",
         "type": "\"long\""
        }
       ],
       "type": "table"
      }
     },
     "output_type": "display_data"
    }
   ],
   "source": [
    "display(employee_data)"
   ]
  },
  {
   "cell_type": "code",
   "execution_count": 0,
   "metadata": {
    "application/vnd.databricks.v1+cell": {
     "cellMetadata": {
      "byteLimit": 2048000,
      "rowLimit": 10000
     },
     "inputWidgets": {},
     "nuid": "170a5f96-fd98-4641-95e5-54dcfcfbdc30",
     "showTitle": false,
     "title": ""
    }
   },
   "outputs": [
    {
     "output_type": "display_data",
     "data": {
      "text/html": [
       "<style scoped>\n",
       "  .table-result-container {\n",
       "    max-height: 300px;\n",
       "    overflow: auto;\n",
       "  }\n",
       "  table, th, td {\n",
       "    border: 1px solid black;\n",
       "    border-collapse: collapse;\n",
       "  }\n",
       "  th, td {\n",
       "    padding: 5px;\n",
       "  }\n",
       "  th {\n",
       "    text-align: left;\n",
       "  }\n",
       "</style><div class='table-result-container'><table class='table-result'><thead style='background-color: white'><tr><th>_1</th><th>_2</th></tr></thead><tbody><tr><td>HR</td><td>1</td></tr><tr><td>IT</td><td>2</td></tr><tr><td>FINANCE</td><td>3</td></tr><tr><td>Operations</td><td>5</td></tr></tbody></table></div>"
      ]
     },
     "metadata": {
      "application/vnd.databricks.v1+output": {
       "addedWidgets": {},
       "aggData": [],
       "aggError": "",
       "aggOverflow": false,
       "aggSchema": [],
       "aggSeriesLimitReached": false,
       "aggType": "",
       "arguments": {},
       "columnCustomDisplayInfos": {},
       "data": [
        [
         "HR",
         1
        ],
        [
         "IT",
         2
        ],
        [
         "FINANCE",
         3
        ],
        [
         "Operations",
         5
        ]
       ],
       "datasetInfos": [],
       "dbfsResultPath": null,
       "isJsonSchema": true,
       "metadata": {},
       "overflow": false,
       "plotOptions": {
        "customPlotOptions": {},
        "displayType": "table",
        "pivotAggregation": null,
        "pivotColumns": null,
        "xColumns": null,
        "yColumns": null
       },
       "removedWidgets": [],
       "schema": [
        {
         "metadata": "{}",
         "name": "_1",
         "type": "\"string\""
        },
        {
         "metadata": "{}",
         "name": "_2",
         "type": "\"long\""
        }
       ],
       "type": "table"
      }
     },
     "output_type": "display_data"
    }
   ],
   "source": [
    "display(dept_data)"
   ]
  },
  {
   "cell_type": "code",
   "execution_count": 0,
   "metadata": {
    "application/vnd.databricks.v1+cell": {
     "cellMetadata": {},
     "inputWidgets": {},
     "nuid": "de381462-9d64-48a9-83b1-8884820c71ca",
     "showTitle": false,
     "title": ""
    }
   },
   "outputs": [],
   "source": []
  }
 ],
 "metadata": {
  "application/vnd.databricks.v1+notebook": {
   "dashboards": [],
   "language": "python",
   "notebookMetadata": {
    "pythonIndentUnit": 4
   },
   "notebookName": "Data transformation",
   "widgets": {}
  }
 },
 "nbformat": 4,
 "nbformat_minor": 0
}
