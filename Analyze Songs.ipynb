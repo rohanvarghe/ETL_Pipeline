{
 "cells": [
  {
   "cell_type": "code",
   "execution_count": 0,
   "metadata": {
    "application/vnd.databricks.v1+cell": {
     "cellMetadata": {
      "byteLimit": 2048000,
      "implicitDf": true,
      "rowLimit": 10000
     },
     "inputWidgets": {},
     "nuid": "ec933157-9d36-4eb8-8e3a-ecaa5113947f",
     "showTitle": false,
     "title": ""
    }
   },
   "outputs": [
    {
     "output_type": "display_data",
     "data": {
      "text/html": [
       "<style scoped>\n",
       "  .table-result-container {\n",
       "    max-height: 300px;\n",
       "    overflow: auto;\n",
       "  }\n",
       "  table, th, td {\n",
       "    border: 1px solid black;\n",
       "    border-collapse: collapse;\n",
       "  }\n",
       "  th, td {\n",
       "    padding: 5px;\n",
       "  }\n",
       "  th {\n",
       "    text-align: left;\n",
       "  }\n",
       "</style><div class='table-result-container'><table class='table-result'><thead style='background-color: white'><tr><th>artist_name</th><th>num_songs</th><th>year</th></tr></thead><tbody><tr><td>Beastie Boys</td><td>5</td><td>1994.0</td></tr><tr><td>Roebeck</td><td>4</td><td>2010.0</td></tr><tr><td>Maximo Park</td><td>4</td><td>2009.0</td></tr><tr><td>Darla Farmer</td><td>4</td><td>2009.0</td></tr><tr><td>Calvin Harris</td><td>4</td><td>2007.0</td></tr><tr><td>Low Low Low La La La Love Love Love</td><td>4</td><td>2007.0</td></tr><tr><td>Lucky Fonz III</td><td>4</td><td>2007.0</td></tr><tr><td>Ordo Rosarius Equilibrio</td><td>4</td><td>2006.0</td></tr><tr><td>Shinobu</td><td>4</td><td>2006.0</td></tr><tr><td>Susana Félix</td><td>4</td><td>2006.0</td></tr></tbody></table></div>"
      ]
     },
     "metadata": {
      "application/vnd.databricks.v1+output": {
       "addedWidgets": {},
       "aggData": [],
       "aggError": "",
       "aggOverflow": false,
       "aggSchema": [],
       "aggSeriesLimitReached": false,
       "aggType": "",
       "arguments": {},
       "columnCustomDisplayInfos": {},
       "data": [
        [
         "Beastie Boys",
         5,
         1994.0
        ],
        [
         "Roebeck",
         4,
         2010.0
        ],
        [
         "Maximo Park",
         4,
         2009.0
        ],
        [
         "Darla Farmer",
         4,
         2009.0
        ],
        [
         "Calvin Harris",
         4,
         2007.0
        ],
        [
         "Low Low Low La La La Love Love Love",
         4,
         2007.0
        ],
        [
         "Lucky Fonz III",
         4,
         2007.0
        ],
        [
         "Ordo Rosarius Equilibrio",
         4,
         2006.0
        ],
        [
         "Shinobu",
         4,
         2006.0
        ],
        [
         "Susana Félix",
         4,
         2006.0
        ]
       ],
       "datasetInfos": [],
       "dbfsResultPath": null,
       "isJsonSchema": true,
       "metadata": {},
       "overflow": false,
       "plotOptions": {
        "customPlotOptions": {},
        "displayType": "table",
        "pivotAggregation": null,
        "pivotColumns": null,
        "xColumns": null,
        "yColumns": null
       },
       "removedWidgets": [],
       "schema": [
        {
         "metadata": "{}",
         "name": "artist_name",
         "type": "\"string\""
        },
        {
         "metadata": "{}",
         "name": "num_songs",
         "type": "\"long\""
        },
        {
         "metadata": "{}",
         "name": "year",
         "type": "\"double\""
        }
       ],
       "type": "table"
      }
     },
     "output_type": "display_data"
    }
   ],
   "source": [
    "%sql\n",
    "-- Which artists released the most songs each year?\n",
    "SELECT\n",
    "  artist_name,\n",
    "  count(artist_name)\n",
    "AS\n",
    "  num_songs,\n",
    "  year\n",
    "FROM\n",
    "  new1\n",
    "WHERE\n",
    "  year > 0\n",
    "GROUP BY\n",
    "  artist_name,\n",
    "  year\n",
    "ORDER BY\n",
    "  num_songs DESC,\n",
    "  year DESC\n",
    "\n",
    "  limit 10"
   ]
  },
  {
   "cell_type": "code",
   "execution_count": 0,
   "metadata": {
    "application/vnd.databricks.v1+cell": {
     "cellMetadata": {
      "byteLimit": 2048000,
      "implicitDf": true,
      "rowLimit": 10000
     },
     "inputWidgets": {},
     "nuid": "d924e5e5-38c4-46ec-9684-b80113522a62",
     "showTitle": false,
     "title": ""
    }
   },
   "outputs": [
    {
     "output_type": "display_data",
     "data": {
      "text/html": [
       "<style scoped>\n",
       "  .table-result-container {\n",
       "    max-height: 300px;\n",
       "    overflow: auto;\n",
       "  }\n",
       "  table, th, td {\n",
       "    border: 1px solid black;\n",
       "    border-collapse: collapse;\n",
       "  }\n",
       "  th, td {\n",
       "    padding: 5px;\n",
       "  }\n",
       "  th {\n",
       "    text-align: left;\n",
       "  }\n",
       "</style><div class='table-result-container'><table class='table-result'><thead style='background-color: white'><tr><th>artist_name</th><th>title</th><th>tempo</th></tr></thead><tbody><tr><td>The Mystic Moods Orchestra</td><td>Gay Ranchero</td><td>124.508</td></tr><tr><td>Jeff Dunham ft. Peanut</td><td>Song For Jeff</td><td>120.049</td></tr><tr><td>Republica</td><td>Pub Pusher</td><td>137.953</td></tr><tr><td>Cultural Amnesia</td><td>I Am Taking Photographs (album cut)</td><td>100.174</td></tr><tr><td>Carlos Y José</td><td>Modesto Ayala</td><td>115.258</td></tr><tr><td>Cold Sweat</td><td>Ashes</td><td>129.926</td></tr><tr><td>Peter Cetera</td><td>Mona Mona</td><td>100.14</td></tr><tr><td>CC Cowboys</td><td>Gå</td><td>105.181</td></tr><tr><td>Peter Pan</td><td>Acid Is Alive</td><td>125.992</td></tr><tr><td>Joe T Vanelli</td><td>Sweetest Day Of May</td><td>127.261</td></tr></tbody></table></div>"
      ]
     },
     "metadata": {
      "application/vnd.databricks.v1+output": {
       "addedWidgets": {},
       "aggData": [],
       "aggError": "",
       "aggOverflow": false,
       "aggSchema": [],
       "aggSeriesLimitReached": false,
       "aggType": "",
       "arguments": {},
       "columnCustomDisplayInfos": {},
       "data": [
        [
         "The Mystic Moods Orchestra",
         "Gay Ranchero",
         124.508
        ],
        [
         "Jeff Dunham ft. Peanut",
         "Song For Jeff",
         120.049
        ],
        [
         "Republica",
         "Pub Pusher",
         137.953
        ],
        [
         "Cultural Amnesia",
         "I Am Taking Photographs (album cut)",
         100.174
        ],
        [
         "Carlos Y José",
         "Modesto Ayala",
         115.258
        ],
        [
         "Cold Sweat",
         "Ashes",
         129.926
        ],
        [
         "Peter Cetera",
         "Mona Mona",
         100.14
        ],
        [
         "CC Cowboys",
         "Gå",
         105.181
        ],
        [
         "Peter Pan",
         "Acid Is Alive",
         125.992
        ],
        [
         "Joe T Vanelli",
         "Sweetest Day Of May",
         127.261
        ]
       ],
       "datasetInfos": [],
       "dbfsResultPath": null,
       "isJsonSchema": true,
       "metadata": {},
       "overflow": false,
       "plotOptions": {
        "customPlotOptions": {},
        "displayType": "table",
        "pivotAggregation": null,
        "pivotColumns": null,
        "xColumns": null,
        "yColumns": null
       },
       "removedWidgets": [],
       "schema": [
        {
         "metadata": "{}",
         "name": "artist_name",
         "type": "\"string\""
        },
        {
         "metadata": "{}",
         "name": "title",
         "type": "\"string\""
        },
        {
         "metadata": "{}",
         "name": "tempo",
         "type": "\"double\""
        }
       ],
       "type": "table"
      }
     },
     "output_type": "display_data"
    }
   ],
   "source": [
    "%sql\n",
    "-- Find songs for your DJ list\n",
    " SELECT\n",
    "   artist_name,\n",
    "   title,\n",
    "   tempo\n",
    " FROM\n",
    "   new1\n",
    " WHERE\n",
    "   time_signature = 4\n",
    "   AND\n",
    "   tempo between 100 and 140\n",
    "   limit 10;"
   ]
  },
  {
   "cell_type": "code",
   "execution_count": 0,
   "metadata": {
    "application/vnd.databricks.v1+cell": {
     "cellMetadata": {},
     "inputWidgets": {},
     "nuid": "7c8695f8-4374-4fd2-a153-5dd7f891b681",
     "showTitle": false,
     "title": ""
    }
   },
   "outputs": [],
   "source": []
  }
 ],
 "metadata": {
  "application/vnd.databricks.v1+notebook": {
   "dashboards": [],
   "language": "python",
   "notebookMetadata": {
    "mostRecentlyExecutedCommandWithImplicitDF": {
     "commandId": 22917906102147,
     "dataframes": [
      "_sqldf"
     ]
    },
    "pythonIndentUnit": 4
   },
   "notebookName": "Analyze Songs",
   "widgets": {}
  }
 },
 "nbformat": 4,
 "nbformat_minor": 0
}
