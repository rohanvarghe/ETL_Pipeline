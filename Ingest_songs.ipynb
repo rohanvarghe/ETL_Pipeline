{
 "cells": [
  {
   "cell_type": "code",
   "execution_count": 0,
   "metadata": {
    "application/vnd.databricks.v1+cell": {
     "cellMetadata": {
      "byteLimit": 2048000,
      "rowLimit": 10000
     },
     "inputWidgets": {},
     "nuid": "94448385-5193-4459-80d1-282fa647ca89",
     "showTitle": false,
     "title": ""
    }
   },
   "outputs": [
    {
     "output_type": "stream",
     "name": "stdout",
     "output_type": "stream",
     "text": [
      "Out[1]: <pyspark.sql.streaming.query.StreamingQuery at 0x7ff548809c10>"
     ]
    }
   ],
   "source": [
    "#EXTRACT\n",
    "from pyspark.sql.types import DoubleType, IntegerType, StringType, StructType, StructField\n",
    "\n",
    "# Define variables used in the code below\n",
    "file_path = \"/databricks-datasets/songs/data-001/\"\n",
    "table_name = \"new\" #table to which the sample databricks provided by databricks is loaded\n",
    "checkpoint_path = \"/tmp/pipeline_get_started/_checkpoint/song_data\"\n",
    "# Schema for the new table\n",
    "schema = StructType(\n",
    "  [\n",
    "    StructField(\"artist_id\", StringType(), True),\n",
    "    StructField(\"artist_lat\", DoubleType(), True),\n",
    "    StructField(\"artist_long\", DoubleType(), True),\n",
    "    StructField(\"artist_location\", StringType(), True),\n",
    "    StructField(\"artist_name\", StringType(), True),\n",
    "    StructField(\"duration\", DoubleType(), True),\n",
    "    StructField(\"end_of_fade_in\", DoubleType(), True),\n",
    "    StructField(\"key\", IntegerType(), True),\n",
    "    StructField(\"key_confidence\", DoubleType(), True),\n",
    "    StructField(\"loudness\", DoubleType(), True),\n",
    "    StructField(\"release\", StringType(), True),\n",
    "    StructField(\"song_hotnes\", DoubleType(), True),\n",
    "    StructField(\"song_id\", StringType(), True),\n",
    "    StructField(\"start_of_fade_out\", DoubleType(), True),\n",
    "    StructField(\"tempo\", DoubleType(), True),\n",
    "    StructField(\"time_signature\", DoubleType(), True),\n",
    "    StructField(\"time_signature_confidence\", DoubleType(), True),\n",
    "    StructField(\"title\", StringType(), True),\n",
    "    StructField(\"year\", IntegerType(), True),\n",
    "    StructField(\"partial_sequence\", IntegerType(), True)\n",
    "  ]\n",
    ")\n",
    "\n",
    "(spark.readStream\n",
    "  .format(\"cloudFiles\")\n",
    "  .schema(schema)\n",
    "  .option(\"cloudFiles.format\", \"csv\")\n",
    "  .option(\"sep\",\"\\t\")\n",
    "  .load(file_path)\n",
    "  .writeStream\n",
    "  .option(\"checkpointLocation\", checkpoint_path)\n",
    "  .trigger(availableNow=True)\n",
    "  .toTable(table_name)\n",
    ")"
   ]
  },
  {
   "cell_type": "code",
   "execution_count": 0,
   "metadata": {
    "application/vnd.databricks.v1+cell": {
     "cellMetadata": {
      "implicitDf": true
     },
     "inputWidgets": {},
     "nuid": "40d316bc-7e4d-48aa-93fd-b3f2a8b6cc60",
     "showTitle": false,
     "title": ""
    }
   },
   "outputs": [
    {
     "output_type": "display_data",
     "data": {
      "text/html": [
       "<style scoped>\n",
       "  .table-result-container {\n",
       "    max-height: 300px;\n",
       "    overflow: auto;\n",
       "  }\n",
       "  table, th, td {\n",
       "    border: 1px solid black;\n",
       "    border-collapse: collapse;\n",
       "  }\n",
       "  th, td {\n",
       "    padding: 5px;\n",
       "  }\n",
       "  th {\n",
       "    text-align: left;\n",
       "  }\n",
       "</style><div class='table-result-container'><table class='table-result'><thead style='background-color: white'><tr><th>col_name</th><th>data_type</th><th>comment</th></tr></thead><tbody><tr><td>artist_id</td><td>string</td><td>null</td></tr><tr><td>artist_lat</td><td>double</td><td>null</td></tr><tr><td>artist_long</td><td>double</td><td>null</td></tr><tr><td>artist_location</td><td>string</td><td>null</td></tr><tr><td>artist_name</td><td>string</td><td>null</td></tr><tr><td>duration</td><td>double</td><td>null</td></tr><tr><td>end_of_fade_in</td><td>double</td><td>null</td></tr><tr><td>key</td><td>int</td><td>null</td></tr><tr><td>key_confidence</td><td>double</td><td>null</td></tr><tr><td>loudness</td><td>double</td><td>null</td></tr><tr><td>release</td><td>string</td><td>null</td></tr><tr><td>song_hotnes</td><td>double</td><td>null</td></tr><tr><td>song_id</td><td>string</td><td>null</td></tr><tr><td>start_of_fade_out</td><td>double</td><td>null</td></tr><tr><td>tempo</td><td>double</td><td>null</td></tr><tr><td>time_signature</td><td>double</td><td>null</td></tr><tr><td>time_signature_confidence</td><td>double</td><td>null</td></tr><tr><td>title</td><td>string</td><td>null</td></tr><tr><td>year</td><td>int</td><td>null</td></tr><tr><td>partial_sequence</td><td>int</td><td>null</td></tr></tbody></table></div>"
      ]
     },
     "metadata": {
      "application/vnd.databricks.v1+output": {
       "addedWidgets": {},
       "aggData": [],
       "aggError": "",
       "aggOverflow": false,
       "aggSchema": [],
       "aggSeriesLimitReached": false,
       "aggType": "",
       "arguments": {},
       "columnCustomDisplayInfos": {},
       "data": [
        [
         "artist_id",
         "string",
         null
        ],
        [
         "artist_lat",
         "double",
         null
        ],
        [
         "artist_long",
         "double",
         null
        ],
        [
         "artist_location",
         "string",
         null
        ],
        [
         "artist_name",
         "string",
         null
        ],
        [
         "duration",
         "double",
         null
        ],
        [
         "end_of_fade_in",
         "double",
         null
        ],
        [
         "key",
         "int",
         null
        ],
        [
         "key_confidence",
         "double",
         null
        ],
        [
         "loudness",
         "double",
         null
        ],
        [
         "release",
         "string",
         null
        ],
        [
         "song_hotnes",
         "double",
         null
        ],
        [
         "song_id",
         "string",
         null
        ],
        [
         "start_of_fade_out",
         "double",
         null
        ],
        [
         "tempo",
         "double",
         null
        ],
        [
         "time_signature",
         "double",
         null
        ],
        [
         "time_signature_confidence",
         "double",
         null
        ],
        [
         "title",
         "string",
         null
        ],
        [
         "year",
         "int",
         null
        ],
        [
         "partial_sequence",
         "int",
         null
        ]
       ],
       "datasetInfos": [],
       "dbfsResultPath": null,
       "isJsonSchema": true,
       "metadata": {},
       "overflow": false,
       "plotOptions": {
        "customPlotOptions": {},
        "displayType": "table",
        "pivotAggregation": null,
        "pivotColumns": null,
        "xColumns": null,
        "yColumns": null
       },
       "removedWidgets": [],
       "schema": [
        {
         "metadata": "{\"comment\":\"name of the column\"}",
         "name": "col_name",
         "type": "\"string\""
        },
        {
         "metadata": "{\"comment\":\"data type of the column\"}",
         "name": "data_type",
         "type": "\"string\""
        },
        {
         "metadata": "{\"comment\":\"comment of the column\"}",
         "name": "comment",
         "type": "\"string\""
        }
       ],
       "type": "table"
      }
     },
     "output_type": "display_data"
    }
   ],
   "source": [
    "%sql\n",
    "desc new"
   ]
  },
  {
   "cell_type": "code",
   "execution_count": 0,
   "metadata": {
    "application/vnd.databricks.v1+cell": {
     "cellMetadata": {},
     "inputWidgets": {},
     "nuid": "9f02288c-972d-454a-8d7b-1710d8cd16dc",
     "showTitle": false,
     "title": ""
    }
   },
   "outputs": [],
   "source": []
  }
 ],
 "metadata": {
  "application/vnd.databricks.v1+notebook": {
   "dashboards": [],
   "language": "python",
   "notebookMetadata": {
    "mostRecentlyExecutedCommandWithImplicitDF": {
     "commandId": 22917906102138,
     "dataframes": [
      "_sqldf"
     ]
    },
    "pythonIndentUnit": 4
   },
   "notebookName": "Ingest_songs",
   "widgets": {}
  }
 },
 "nbformat": 4,
 "nbformat_minor": 0
}
